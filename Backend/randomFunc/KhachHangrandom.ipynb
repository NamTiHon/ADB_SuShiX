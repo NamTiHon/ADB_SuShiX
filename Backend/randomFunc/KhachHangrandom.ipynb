{
 "cells": [
  {
   "cell_type": "code",
   "execution_count": 2,
   "metadata": {},
   "outputs": [],
   "source": [
    "import pandas as pd\n",
    "\n",
    "def read_excel_and_generate_sql(excel_file_path, sql_file_path):\n",
    "    # Đọc dữ liệu từ file Excel\n",
    "    df = pd.read_excel(excel_file_path)\n",
    "\n",
    "    # Mở file SQL để ghi\n",
    "    with open(sql_file_path, 'w', encoding='utf-8') as sql_file:\n",
    "        for index, row in df.iterrows():\n",
    "            # Tạo câu lệnh INSERT INTO\n",
    "            sql = f\"INSERT INTO KhachHang (KH_SDT, KH_HoTen, KH_CCCD, KH_Email, KH_GioiTinh, KH_MatKhau) VALUES ('0{row['KH_SDT']}', N'{row['KH_HoTen']}', '0{row['KH_CCCD']}', '{row['KH_Email']}', N'{row['KH_GioiTinh']}', '{row['KH_MatKhau']}');\\n\"\n",
    "            # Ghi câu lệnh vào file SQL\n",
    "            sql_file.write(sql)\n",
    "\n",
    "# Đường dẫn tới file Excel và file SQL\n",
    "excel_file_path = 'D:/SINHVIEN/1.study/hk1_nam3/CSDL Nang cao/ADB_SuShiX/Backend/khachhang.xlsx'\n",
    "sql_file_path = 'D:/SINHVIEN/1.study/hk1_nam3/CSDL Nang cao/ADB_SuShiX/Backend/sqlScript/Datakhachhang.sql'\n",
    "\n",
    "# Gọi hàm để đọc file Excel và tạo file SQL\n",
    "read_excel_and_generate_sql(excel_file_path, sql_file_path)"
   ]
  }
 ],
 "metadata": {
  "kernelspec": {
   "display_name": "base",
   "language": "python",
   "name": "python3"
  },
  "language_info": {
   "codemirror_mode": {
    "name": "ipython",
    "version": 3
   },
   "file_extension": ".py",
   "mimetype": "text/x-python",
   "name": "python",
   "nbconvert_exporter": "python",
   "pygments_lexer": "ipython3",
   "version": "3.12.4"
  }
 },
 "nbformat": 4,
 "nbformat_minor": 2
}
