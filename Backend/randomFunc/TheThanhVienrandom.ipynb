{
 "cells": [
  {
   "cell_type": "code",
   "execution_count": 1,
   "metadata": {},
   "outputs": [],
   "source": [
    "import pandas as pd\n",
    "\n",
    "def read_excel_and_generate_sql(excel_file_path, sql_file_path):\n",
    "    # Đọc dữ liệu từ file Excel\n",
    "    df = pd.read_excel(excel_file_path)\n",
    "\n",
    "    # Mở file SQL để ghi\n",
    "    with open(sql_file_path, 'w', encoding='utf-8') as sql_file:\n",
    "        for index, row in df.iterrows():\n",
    "            sql_file.write(\"INSERT INTO TheThanhVien (TTV_MaThe, TTV_NgayTao, TTV_SoNamSuDung, TTV_DiemTichLuy, TTV_TrangThai, TTV_LoaiThe, TTV_SDT_KH, TTV_MaNhanVien) VALUES \")\n",
    "            # Tạo câu lệnh INSERT INTO\n",
    "            value = f\"('{row['TTV_MaThe']}', '{row['TTV_NgayTao']}', '{row['TTV_SoNamSuDung']}', '{row['TTV_DiemTichLuy']}', '{row['TTV_TrangThai']}', '{row['TTV_LoaiThe']}', '0{row['TTV_SDT_KH']}', '{row['TTV_MaNhanVien']}');\\n\"\n",
    "            # Ghi câu lệnh vào file SQL\n",
    "            sql_file.write(value)\n",
    "\n",
    "# Đường dẫn tới file Excel và file SQL\n",
    "excel_file_path = 'D:/SINHVIEN/1.study/hk1_nam3/CSDL Nang cao/ADB_SuShiX/Backend/TheThanhVien.xlsx'\n",
    "sql_file_path = 'D:/SINHVIEN/1.study/hk1_nam3/CSDL Nang cao/ADB_SuShiX/Backend/sqlScript/DataThethanhvien.sql'\n",
    "\n",
    "# Gọi hàm để đọc file Excel và tạo file SQL\n",
    "read_excel_and_generate_sql(excel_file_path, sql_file_path)"
   ]
  }
 ],
 "metadata": {
  "kernelspec": {
   "display_name": "base",
   "language": "python",
   "name": "python3"
  },
  "language_info": {
   "codemirror_mode": {
    "name": "ipython",
    "version": 3
   },
   "file_extension": ".py",
   "mimetype": "text/x-python",
   "name": "python",
   "nbconvert_exporter": "python",
   "pygments_lexer": "ipython3",
   "version": "3.12.4"
  }
 },
 "nbformat": 4,
 "nbformat_minor": 2
}
