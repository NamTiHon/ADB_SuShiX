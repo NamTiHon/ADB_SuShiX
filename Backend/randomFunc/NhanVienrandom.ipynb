{
 "cells": [
  {
   "cell_type": "code",
   "execution_count": 2,
   "metadata": {},
   "outputs": [],
   "source": [
    "import pandas as pd\n",
    "\n",
    "def read_excel_and_generate_sql(excel_file_path, sql_file_path):\n",
    "    # Đọc dữ liệu từ file Excel\n",
    "    df = pd.read_excel(excel_file_path)\n",
    "\n",
    "    # Mở file SQL để ghi\n",
    "    with open(sql_file_path, 'w', encoding='utf-8') as sql_file:\n",
    "        for index, row in df.iterrows():\n",
    "            # Tạo câu lệnh INSERT INTO\n",
    "            sql_file.write(\"INSERT INTO NhanVien (NV_MaNhanVien, NV_HoTen, NV_NgaySinh, NV_GioiTinh, NV_NgayVaoLam, NV_NgayNghiViec, NV_DiaChi, NV_SDT, NV_SoNha, NV_TenDuong, NV_TenPhuong, NV_TenQuan, NV_TenThanhPho) VALUES \")\n",
    "            value = f\"('{row['NV_MaNhanVien']}', N'{row['NV_HoTen']}', '{row['NV_NgaySinh']}', N'{row['NV_GioiTinh']}', '{row['NV_NgayVaoLam']}', '{row['NV_NgayNghiViec']}', N'{row['NV_DiaChi']}', '0{row['NV_SDT']}', '{row['NV_SoNha']}', N'{row['NV_TenDuong']}', N'{row['NV_TenPhuong']}', N'{row['NV_TenQuan']}', N'{row['NV_TenThanhPho']}');\\n\"\n",
    "            # Ghi câu lệnh vào file SQL\n",
    "            sql_file.write(value)\n",
    "\n",
    "# Đường dẫn tới file Excel và file SQL\n",
    "excel_file_path = 'D:/SINHVIEN/1.study/hk1_nam3/CSDL Nang cao/ADB_SuShiX/Backend/NhanVien.xlsx'\n",
    "sql_file_path = 'D:/SINHVIEN/1.study/hk1_nam3/CSDL Nang cao/ADB_SuShiX/Backend/sqlScript/DataNhanvien.sql'\n",
    "\n",
    "# Gọi hàm để đọc file Excel và tạo file SQL\n",
    "read_excel_and_generate_sql(excel_file_path, sql_file_path)"
   ]
  }
 ],
 "metadata": {
  "kernelspec": {
   "display_name": "base",
   "language": "python",
   "name": "python3"
  },
  "language_info": {
   "codemirror_mode": {
    "name": "ipython",
    "version": 3
   },
   "file_extension": ".py",
   "mimetype": "text/x-python",
   "name": "python",
   "nbconvert_exporter": "python",
   "pygments_lexer": "ipython3",
   "version": "3.12.4"
  }
 },
 "nbformat": 4,
 "nbformat_minor": 2
}
