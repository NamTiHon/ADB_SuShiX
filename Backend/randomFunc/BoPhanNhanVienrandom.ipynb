{
 "cells": [
  {
   "cell_type": "code",
   "execution_count": 2,
   "metadata": {},
   "outputs": [],
   "source": [
    "import pandas as pd\n",
    "\n",
    "def read_excel_and_generate_sql(excel_file_path, sql_file_path):\n",
    "    # Đọc dữ liệu từ file Excel\n",
    "    df = pd.read_excel(excel_file_path)\n",
    "\n",
    "    # Mở file SQL để ghi\n",
    "    with open(sql_file_path, 'w', encoding='utf-8') as sql_file:\n",
    "        for index, row in df.iterrows():\n",
    "            sql_file.write(\"INSERT INTO BoPhan_NhanVien (BP_NV_MaNhanVien, BP_NV_MaChiNhanh, BP_NV_TenBoPhan, BP_NV_ChucVu, BP_NV_Luong) VALUES \")\n",
    "            # Tạo câu lệnh INSERT INTO\n",
    "            value = f\"('{row['BP_NV_MaNhanVien']}', '{row['BP_NV_MaChiNhanh']}', N'{row['BP_NV_TenBoPhan']}', N'{row['BP_NV_ChucVu']}', '{row['BP_NV_Luong']}');\\n\"\n",
    "            # Ghi câu lệnh vào file SQL\n",
    "            sql_file.write(value)\n",
    "\n",
    "# Đường dẫn tới file Excel và file SQL\n",
    "excel_file_path = 'D:/SINHVIEN/1.study/hk1_nam3/CSDL Nang cao/ADB_SuShiX/Backend/BoPhanNhanVien.xlsx'\n",
    "sql_file_path = 'D:/SINHVIEN/1.study/hk1_nam3/CSDL Nang cao/ADB_SuShiX/Backend/sqlScript/DataBophanNhanvien.sql'\n",
    "\n",
    "# Gọi hàm để đọc file Excel và tạo file SQL\n",
    "read_excel_and_generate_sql(excel_file_path, sql_file_path)"
   ]
  }
 ],
 "metadata": {
  "kernelspec": {
   "display_name": "base",
   "language": "python",
   "name": "python3"
  },
  "language_info": {
   "codemirror_mode": {
    "name": "ipython",
    "version": 3
   },
   "file_extension": ".py",
   "mimetype": "text/x-python",
   "name": "python",
   "nbconvert_exporter": "python",
   "pygments_lexer": "ipython3",
   "version": "3.12.4"
  }
 },
 "nbformat": 4,
 "nbformat_minor": 2
}
